{
  "nbformat": 4,
  "nbformat_minor": 0,
  "metadata": {
    "colab": {
      "provenance": []
    },
    "kernelspec": {
      "name": "python3",
      "display_name": "Python 3"
    },
    "language_info": {
      "name": "python"
    }
  },
  "cells": [
    {
      "cell_type": "code",
      "source": [
        "pip install rasterio"
      ],
      "metadata": {
        "id": "P8WhXKVjsxi_"
      },
      "execution_count": null,
      "outputs": []
    },
    {
      "cell_type": "code",
      "execution_count": null,
      "metadata": {
        "colab": {
          "base_uri": "https://localhost:8080/"
        },
        "id": "QWB6gI9SshSZ",
        "outputId": "dafd7665-acbf-40a5-df84-61612fb8cb92"
      },
      "outputs": [
        {
          "output_type": "stream",
          "name": "stderr",
          "text": [
            "WARNING:rasterio._env:CPLE_AppDefined in large.tif: TIFFReadDirectory:Sum of Photometric type-related color channels and ExtraSamples doesn't match SamplesPerPixel. Defining non-color channels as ExtraSamples.\n",
            "WARNING:rasterio._env:CPLE_AppDefined in TIFFReadDirectory:Sum of Photometric type-related color channels and ExtraSamples doesn't match SamplesPerPixel. Defining non-color channels as ExtraSamples.\n"
          ]
        }
      ],
      "source": [
        "import rasterio\n",
        "import numpy as np\n",
        "from sklearn.decomposition import NMF,PCA\n",
        "import matplotlib.pyplot as plt\n",
        "from sklearn.linear_model import ElasticNet\n",
        "from scipy.optimize import nnls\n",
        "from sklearn.decomposition import NMF\n",
        "\n",
        "# Load the TIFF image\n",
        "with rasterio.open('large.tif') as src:\n",
        "    image = src.read()\n",
        "# endmember_spectra = np.loadtxt('spectra.txt', skiprows=9)\n"
      ]
    },
    {
      "cell_type": "code",
      "source": [
        "from sklearn.linear_model import Lasso\n",
        "\n",
        "# Preprocess the data\n",
        "image = image.astype(np.float32)  # Convert to float32\n",
        "image = image / np.max(image)  # Normalize to [0, 1]\n",
        "\n",
        "# Reshape the data to (pixels, bands)\n",
        "# image.shape[0]: BANDS\n",
        "#  -1 flattens the pixels to h x w total pixels\n",
        "pixels = image.reshape(image.shape[0], -1).T  # Shape: (number_of_pixels, bands) = (h x w, 135) = (1008,135)\n",
        "number_of_pixels=pixels.shape[0]\n",
        "\n",
        "\n",
        "# Read endmember spectra from ASCII file\n",
        "endmember_spectra = np.loadtxt('spectra.txt', skiprows=9)  # Shape: (135, 8)\n",
        "\n",
        "# Drop the first endmember\n",
        "endmember_spectra = endmember_spectra[:, 2:]  # Shape is now (135, 7) = (bands, endmember_count)\n",
        "endmember_count = endmember_spectra.shape[1]\n",
        "\n",
        "# abudances shape = (number_of_pixels, endmember_count)\n",
        "abundances = np.zeros((number_of_pixels, endmember_count))  # Initialize abundance matrix\n",
        "\n"
      ],
      "metadata": {
        "id": "3ymErv1bAj8I"
      },
      "execution_count": 133,
      "outputs": []
    },
    {
      "cell_type": "code",
      "source": [
        "model='lasso'\n",
        "if model=='lasso':\n",
        "  # Perform Lasso Regression for each pixel\n",
        "  lasso = Lasso(alpha=0.2)  # Alpha is the regularization strength\n",
        "  for i in range(number_of_pixels):\n",
        "      lasso.fit(endmember_spectra, pixels[i])  # Fit remaining endmembers to the pixel\n",
        "      abundances[i, :] = lasso.coef_  # Get the coefficients (abundances) for this pixel\n",
        "\n",
        "if model=='elastic_net':\n",
        "  elastic_net = ElasticNet(alpha=0.2, l1_ratio=0.5)  # l1_ratio controls the mix of Lasso and Ridge\n",
        "  for i in range(number_of_pixels):\n",
        "      elastic_net.fit(endmember_spectra, pixels[i])\n",
        "      abundances[i, :] = elastic_net.coef_\n",
        "\n",
        "if model=='nmf':\n",
        "  nmf = NMF(n_components=endmember_count, init='random', random_state=0)\n",
        "  abundances = nmf.fit_transform(pixels)\n",
        "\n",
        "# Reshape the abundances to (rows, columns, endmembers)\n",
        "abundances = abundances.reshape(image.shape[1], image.shape[2], endmember_count)\n",
        "\n",
        "# Normalize abundances to [0, 1]\n",
        "abundances = abundances / np.max(abundances, axis=(0, 1, 2), keepdims=True)\n",
        "\n",
        "# Visualize the results\n",
        "fig, axs = plt.subplots(1, endmember_spectra.shape[1] + 1, figsize=(20, 16))\n",
        "for i in range(endmember_spectra.shape[1]):\n",
        "    axs[i].imshow(abundances[..., i], cmap='brg')\n",
        "    axs[i].set_title(f'Endmember {i + 1}')\n",
        "axs[-1].imshow(image[0])\n",
        "axs[-1].set_title('Original Image (Band 1)')\n",
        "plt.show()"
      ],
      "metadata": {
        "colab": {
          "base_uri": "https://localhost:8080/",
          "height": 236
        },
        "id": "j3PzZ_xUj9my",
        "outputId": "e0a42a6f-8437-445e-f3db-d121784e9e7c"
      },
      "execution_count": 134,
      "outputs": [
        {
          "output_type": "display_data",
          "data": {
            "text/plain": [
              "<Figure size 2000x1600 with 7 Axes>"
            ],
            "image/png": "[encoded data removed]"
          },
          "metadata": {}
        }
      ]
    },
    {
      "cell_type": "markdown",
      "source": [
        "![DLR_HySU_HS_large_targets_oversampled.png](data:image/png;base64,iVBORw0KGgoAAAANSUhEUgAAAJAAAAB1CAIAAAAurf/eAAAAAXNSR0IArs4c6QAAAARnQU1BAACxjwv8YQUAAAAJcEhZcwAADsMAAA7DAcdvqGQAAAVhSURBVHhe7Z3Nax1VGMbnzNybr5rE+lEVvwiCoikqFf0LXEgb7U5qamsFwT/ArS7dCC5cKwjiwj+gujEIQkU3uqsgcaGgEENb9cbkfs2c8SZ9CdW3z9GLmOSZPj/KzcM93Onk/ubcyXvPmTPhxOnFDFDmtSVHu51bclQlfFUIFjxFDjfYL4eWHDGDr2q34H9WwR3M8G+czUwVlhzDKlpyDHuVJcegtOCZwO8GbBAHEwkjQ8LIkDAyJIwMCSNDwsiQMDLC8TOPWHTUBaw9C2w6FLD4rGpcU+OKtTuEtWcrUedOT1pyzOANLvbgFk/1YdNMCQvnjw7BN2oF7/1EAYt09TAyJIwMCSNDwsiQMDIkjAwJI0PCyAgnzx616EiNzAZoOuawiszwQGrAY70bW3iD+ICbqWHTx6t9S54OrKmzAIvZFA/aT8+rs3CDlzTi3BgkbHxCSM1O+Z+RsDHZVbVPziTsP7AfziSMDAkjQ8LIkDAywolzsHCeqFuWHIMSFn2T9bQlR+JV660NS44a19R1hE3zuNpe+a5nyZMonNvw3cgK3HQn3MPX77DguZjDP2fUw8iQMDIkjAwJI0PCyJAwMiSMDAkjIzy7/JRFR+jNW3IUEU6EDhksFXsRXtZ7ZepXS45hMbDkyPHc7zYetP3iBzzifAUXzqmDG39tfwQ2fXgv/BrhPL6EXD2MDAkjQ8LIkDAyJIwMCSNDwsiQMDLCc6eetOjIB7BwDhEOK9cZHOstI2z6bfJ3S45usWnJkZhn1sKDtl+uw3I7W8OFM76QOXWt9WG4G2/fB8epPw9wN/a0h4UROwu3tXb+Ffs0F5OaPRU2MjSytWtppG+kTdLGYv/PYbn62TgcgD86JGwc9l+YdI3FAehhOyczS+KfOBDCxL9nT4WN6rAqxquP9tR23ZbVeBxS/I2wtHzMoiNszVpyFBlsSuA++q562n6y0+7s5OvQKeAs7jyfseSYLG635HijB6v+p8t1S4735y9bcqzWsKb+Ho+/DxOVeA3PEfv7kTjaLZ29xkPnMDIkjAwJI0PCyJAwMiSMDAkjIyy9+JhFR+jfZMkxW91iyXEIF30LXXhx8c246cLCSUue6QULjiLAyeR1uGTJ0S/PW3LU5aolR+zDAeJBgNVxYvw2UVKrh5EhYWRIGBkSRoaEkSFhZEgYGRJGRlg6DRcHe2gDziV+ZRUOpB7pw0uSW3iq9k9zd1tyvPv4WUuOy3N3WboOcA9DhNc4D3qfWHJslhcsOaoIj/tp3CW28LsxhYd11cPIkDAyJIwMCSNDwsiQMDIkjAwJIyMsnYP3cb5/A9aeb349tOQI+CCIeIy114aTrt859rIlx9ptsOqPeCGyiK/67Hc/teT4o79iyTGV4eXL8NRmXG2nbpPdkB5WbxNvhIsqmiBsR1W1+2jPNpSGCLP019xIGvKReOPQBGHhmhtyXpsbSUOEhVDsPtqzDaUhv972GjvbwvA4UlNo+PHYPMLxM7D2PIxnDL/1Dax45gZw3nKipk7cM/q9R5+35Pj2HriyWYk7W6y3LDl6/a8sOcrhZ5YcAe98xAPfidtCJ9ZzUg8jQ8LIkDAyJIwMCSNDwsiQMDIkjIzwzPKiRQdeEDp77SKsqR/owFKxizfYmbLg+eDhJyw5frwVbnFQ/2zJUQ1h4Rxj15KjwOttV7hyLnANnPjaM+JZ3OphZEgYGRJGhoSRIWFkSBgZEkaGhJERXngJLg6W41shH/0FTtW+jEdS1+Bq1tnmJCww69RBBV+VGOrN8fJlIcKmKsLKeaKAu4jHorMKN9aJnbefggQJI0PCyJAwMiSMDAkjQ8LIkDAqsuxP3/VFLnDtabQAAAAASUVORK5CYII=)"
      ],
      "metadata": {
        "id": "SX97jqeB0Vym"
      }
    },
    {
      "cell_type": "code",
      "source": [],
      "metadata": {
        "id": "15cZ59WBurbE"
      },
      "execution_count": null,
      "outputs": []
    }
  ]
}